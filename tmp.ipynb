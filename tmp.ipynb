{
 "cells": [
  {
   "cell_type": "code",
   "execution_count": 1,
   "id": "b8b62d0d-86b7-4c67-981d-e11a9a7f41ff",
   "metadata": {},
   "outputs": [],
   "source": [
    "from transformers import AutoTokenizer, AutoModelForCausalLM\n",
    "import torch\n",
    "import tensorflow as tf"
   ]
  },
  {
   "cell_type": "code",
   "execution_count": 25,
   "id": "16b5d4f1-f644-4a8e-9e25-a6bbd700d97e",
   "metadata": {},
   "outputs": [
    {
     "name": "stderr",
     "output_type": "stream",
     "text": [
      "Special tokens have been added in the vocabulary, make sure the associated word embeddings are fine-tuned or trained.\n"
     ]
    }
   ],
   "source": [
    "tokenizer = AutoTokenizer.from_pretrained(\"deepseek-ai/deepseek-coder-1.3b-base\", trust_remote_code=True)\n",
    "model = AutoModelForCausalLM.from_pretrained(\"deepseek-ai/deepseek-coder-1.3b-base\", trust_remote_code=True, cache_dir=\"./.models\").cuda()"
   ]
  },
  {
   "cell_type": "code",
   "execution_count": 71,
   "id": "abb138f0-65c4-44b6-a9dd-15c295c710d9",
   "metadata": {},
   "outputs": [
    {
     "name": "stdout",
     "output_type": "stream",
     "text": [
      "tensor([[[-0.1228,  0.1144, -0.0702,  ...,  0.1505, -0.1266, -0.0158],\n",
      "         [-0.1228,  0.1144, -0.0702,  ...,  0.1505, -0.1266, -0.0158],\n",
      "         [-0.1228,  0.1144, -0.0702,  ...,  0.1505, -0.1266, -0.0158],\n",
      "         ...,\n",
      "         [-0.0877, -0.1349,  0.2730,  ...,  0.1404, -0.2630,  0.2289],\n",
      "         [-0.0689,  0.1239,  0.1794,  ...,  0.0543, -0.1602,  0.0352],\n",
      "         [ 0.2016,  0.3785, -0.0902,  ..., -0.0068, -0.0309, -0.3164]]],\n",
      "       device='cuda:0')\n"
     ]
    }
   ],
   "source": [
    "input_text = '''\n",
    "def multiply(a, b):\n",
    "    \"\"\"Complete the function that takes two integers and returns \n",
    "    the product of their unit digits.\n",
    "    Assume the input is always valid.\n",
    "    Examples:\n",
    "    multiply(148, 412) should return 16.\n",
    "    multiply(19, 28) should return 72.\n",
    "    multiply(2020, 1851) should return 0.\n",
    "    multiply(14,-15) should return 20.\n",
    "    \"\"\"\n",
    "    return abs(a * 10) * abs(b % 10)\n",
    "'''\n",
    "inputs = tokenizer(input_text, return_tensors=\"pt\", padding='max_length', max_length=1000).to(model.device)\n",
    "\n",
    "with torch.no_grad():\n",
    "    last_hidden_state = model(**inputs, output_hidden_states=True).hidden_states[-1]\n",
    "    print(last_hidden_state)"
   ]
  },
  {
   "cell_type": "code",
   "execution_count": 72,
   "id": "d5cba562-31b4-4878-a058-a2f0e5fb5fbd",
   "metadata": {},
   "outputs": [
    {
     "name": "stdout",
     "output_type": "stream",
     "text": [
      "tensor([[[-0.1226,  0.1177, -0.0766,  ...,  0.1515, -0.1237, -0.0240],\n",
      "         [-0.1226,  0.1177, -0.0766,  ...,  0.1515, -0.1237, -0.0240],\n",
      "         [-0.1226,  0.1177, -0.0766,  ...,  0.1515, -0.1237, -0.0240],\n",
      "         ...,\n",
      "         [-0.0678, -0.0914,  0.2131,  ...,  0.2443, -0.0695,  0.3230],\n",
      "         [-0.1141,  0.1411,  0.1703,  ...,  0.2180, -0.0491,  0.1528],\n",
      "         [ 0.2050,  0.3780, -0.0561,  ...,  0.0264, -0.0401, -0.3204]]],\n",
      "       device='cuda:0')\n"
     ]
    }
   ],
   "source": [
    "input_text = '''\n",
    "def multiply(a, b):\n",
    "    \"\"\"Complete the function that takes two integers and returns \n",
    "    the product of their unit digits.\n",
    "    Assume the input is always valid.\n",
    "    Examples:\n",
    "    multiply(148, 412) should return 16.\n",
    "    multiply(19, 28) should return 72.\n",
    "    multiply(2020, 1851) should return 0.\n",
    "    multiply(14,-15) should return 20.\n",
    "    \"\"\"\n",
    "    return abs(a % 10) * abs(b % 10)\n",
    "'''\n",
    "\n",
    "inputs = tokenizer(input_text, return_tensors=\"pt\", padding='max_length', max_length=1000).to(model.device)\n",
    "with torch.no_grad():\n",
    "    last_hidden_state2 = model(**inputs, output_hidden_states=True).hidden_states[-1]\n",
    "    print(last_hidden_state2)"
   ]
  },
  {
   "cell_type": "code",
   "execution_count": 73,
   "id": "92a677d1-88f7-4391-99ce-6e9b7691edf3",
   "metadata": {},
   "outputs": [
    {
     "name": "stdout",
     "output_type": "stream",
     "text": [
      "Euclidean Distance: tf.Tensor(32.332375, shape=(), dtype=float32)\n"
     ]
    }
   ],
   "source": [
    "import torch\n",
    "\n",
    "print(\"Euclidean Distance:\",tf.norm(last_hidden_state2.cpu()-last_hidden_state.cpu(),ord='euclidean'))"
   ]
  },
  {
   "cell_type": "code",
   "execution_count": 91,
   "id": "f50d80c0-24bb-4d96-80d0-cedc135abec7",
   "metadata": {},
   "outputs": [],
   "source": [
    "def compute_dis(src1, src2):\n",
    "\n",
    "    size1 = tokenizer(src1, return_tensors=\"pt\").to(model.device)['input_ids'].shape[1]\n",
    "    size2 = tokenizer(src2, return_tensors=\"pt\").to(model.device)['input_ids'].shape[1]\n",
    "    size = max(size1, size2)\n",
    "\n",
    "    inputs1 = tokenizer(src1, return_tensors=\"pt\", padding='max_length', max_length=size).to(model.device)\n",
    "    inputs2 = tokenizer(src2, return_tensors=\"pt\", padding='max_length', max_length=size).to(model.device)\n",
    "\n",
    "    with torch.no_grad():\n",
    "        last_hidden_state1 = model(**inputs1, output_hidden_states=True).hidden_states[-1]\n",
    "        last_hidden_state2 = model(**inputs2, output_hidden_states=True).hidden_states[-1]\n",
    "\n",
    "    return tf.norm(last_hidden_state2.cpu()-last_hidden_state1.cpu(),ord='euclidean')"
   ]
  },
  {
   "cell_type": "code",
   "execution_count": 99,
   "id": "ff325e5e-ad30-4939-abc8-7a7b7abd8b7e",
   "metadata": {},
   "outputs": [],
   "source": [
    "import glob\n",
    "import os\n",
    "# All files and directories ending with .txt and that don't begin with a dot:\n",
    "mutants = glob.glob(\"mutpy/mutants/human_eval/*/m*.py\")\n",
    "\n",
    "for m in mutants:\n",
    "    name = m.split('/')[-1].split('.py')[0]\n",
    "    ind = m.split('/')[-2].replace('m', '')\n",
    "    original_file = m.replace(name, f'src{ind}')\n",
    "    with open(original_file, 'r') as file:\n",
    "        original_src = file.read()\n",
    "    with open(m, 'r') as file:\n",
    "        mutant_src = file.read()\n",
    "    os.system(f'echo {name} >> mutant_dis.txt')\n",
    "    os.system(f'echo {compute_dis(original_src, mutant_src)} >> mutant_dis.txt')"
   ]
  },
  {
   "cell_type": "code",
   "execution_count": 116,
   "id": "70b124b6-25d5-4b2c-80c6-70b9d5b1dada",
   "metadata": {},
   "outputs": [
    {
     "name": "stdout",
     "output_type": "stream",
     "text": [
      "253.35802700645044\n",
      "223.70555181424334\n",
      "245.00821685791016\n",
      "227.03334045410156\n"
     ]
    }
   ],
   "source": [
    "from statistics import median\n",
    "\n",
    "survived = set()\n",
    "killed = set()\n",
    "survived_dis = []\n",
    "killed_dis = []\n",
    "with open('mutpy/mutant_status.txt', 'r') as f:\n",
    "    for l in f.readlines():\n",
    "        l = l.strip()\n",
    "        if l.startswith('m'):\n",
    "            cur_mut = l\n",
    "        elif 'Survived' in l:\n",
    "            survived.add(cur_mut)\n",
    "        elif 'Killed' in l:\n",
    "            killed.add(cur_mut)\n",
    "        elif 'Timeout' in l:\n",
    "            killed.add(cur_mut)\n",
    "        else:\n",
    "            raise Exception('unknown type')\n",
    "with open('mutant_dis.txt', 'r') as f:\n",
    "    for l in f.readlines():\n",
    "        l = l.strip()\n",
    "        if l.startswith('m'):\n",
    "            cur_mut = l\n",
    "        else:\n",
    "            dis = float(l)\n",
    "            if cur_mut in survived:\n",
    "                survived_dis.append(dis)\n",
    "            elif cur_mut in killed:\n",
    "                killed_dis.append(dis)\n",
    "            else:\n",
    "                print(cur_mut)\n",
    "                continue\n",
    "\n",
    "print(sum(survived_dis) / len(survived))\n",
    "print(sum(killed_dis) / len(killed))\n",
    "\n",
    "print(median(survived_dis))\n",
    "print(median(killed_dis))"
   ]
  },
  {
   "cell_type": "code",
   "execution_count": 117,
   "id": "1feed152-a4cd-45d4-b876-99131c3012e2",
   "metadata": {},
   "outputs": [],
   "source": [
    "mutants = glob.glob(\"mutpy/mutants/human_eval/*/m*.py\")\n",
    "selected_inds = set()\n",
    "\n",
    "for m in mutants:\n",
    "    name = m.split('/')[-1].split('.py')[0]\n",
    "    ind = m.split('/')[-2].replace('m', '')\n",
    "    if name in survived:\n",
    "        selected_inds.add(ind)\n",
    "\n",
    "for m in mutants:\n",
    "    name = m.split('/')[-1].split('.py')[0]\n",
    "    ind = m.split('/')[-2].replace('m', '')\n",
    "    if ind not in selected_inds:\n",
    "        continue\n",
    "    original_file = m.replace(name, f'src{ind}')\n",
    "    with open(original_file, 'r') as file:\n",
    "        original_src = file.read()\n",
    "    with open(m, 'r') as file:\n",
    "        mutant_src = file.read()\n",
    "    os.system(f'echo {name} >> selected_mutant_dis.txt')\n",
    "    os.system(f'echo {compute_dis(original_src, mutant_src)} >> selected_mutant_dis.txt')"
   ]
  },
  {
   "cell_type": "code",
   "execution_count": 119,
   "id": "14c53812-1ce1-49bc-bd4e-0eed0a9b1345",
   "metadata": {},
   "outputs": [
    {
     "name": "stdout",
     "output_type": "stream",
     "text": [
      "253.35802700645044\n",
      "127.01595306396484\n",
      "245.00821685791016\n",
      "239.3861846923828\n"
     ]
    }
   ],
   "source": [
    "from statistics import median\n",
    "\n",
    "survived = set()\n",
    "killed = set()\n",
    "survived_dis = []\n",
    "killed_dis = []\n",
    "with open('mutpy/mutant_status.txt', 'r') as f:\n",
    "    for l in f.readlines():\n",
    "        l = l.strip()\n",
    "        if l.startswith('m'):\n",
    "            cur_mut = l\n",
    "        elif 'Survived' in l:\n",
    "            survived.add(cur_mut)\n",
    "        elif 'Killed' in l:\n",
    "            killed.add(cur_mut)\n",
    "        elif 'Timeout' in l:\n",
    "            killed.add(cur_mut)\n",
    "        else:\n",
    "            raise Exception('unknown type')\n",
    "with open('selected_mutant_dis.txt', 'r') as f:\n",
    "    for l in f.readlines():\n",
    "        l = l.strip()\n",
    "        if l.startswith('m'):\n",
    "            cur_mut = l\n",
    "        else:\n",
    "            dis = float(l)\n",
    "            if cur_mut in survived:\n",
    "                survived_dis.append(dis)\n",
    "            elif cur_mut in killed:\n",
    "                killed_dis.append(dis)\n",
    "            else:\n",
    "                print(cur_mut)\n",
    "                continue\n",
    "\n",
    "print(sum(survived_dis) / len(survived))\n",
    "print(sum(killed_dis) / len(killed))\n",
    "\n",
    "print(median(survived_dis))\n",
    "print(median(killed_dis))"
   ]
  }
 ],
 "metadata": {
  "kernelspec": {
   "display_name": ".venv",
   "language": "python",
   "name": ".venv"
  },
  "language_info": {
   "codemirror_mode": {
    "name": "ipython",
    "version": 3
   },
   "file_extension": ".py",
   "mimetype": "text/x-python",
   "name": "python",
   "nbconvert_exporter": "python",
   "pygments_lexer": "ipython3",
   "version": "3.9.5"
  }
 },
 "nbformat": 4,
 "nbformat_minor": 5
}
